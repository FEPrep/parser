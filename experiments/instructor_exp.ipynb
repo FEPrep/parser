{
 "cells": [
  {
   "cell_type": "code",
   "execution_count": null,
   "metadata": {},
   "outputs": [],
   "source": []
  },
  {
   "cell_type": "code",
   "execution_count": null,
   "metadata": {},
   "outputs": [],
   "source": [
    "import instructor\n",
    "import llama_cpp\n",
    "from llama_cpp.llama_speculative import LlamaPromptLookupDecoding\n",
    "from pydantic import BaseModel\n",
    "\n",
    "llama = llama_cpp.Llama(\n",
    "    model_path=\"../models/Hermes-2-Pro-Llama-3-8B-Q8.gguf\",\n",
    "    n_gpu_layers=-1,\n",
    "    chat_format=\"chatml\",\n",
    "    n_ctx=2048,\n",
    "    draft_model=LlamaPromptLookupDecoding(num_pred_tokens=2),\n",
    "    logits_all=True,\n",
    "    verbose=False,\n",
    ")\n",
    "\n",
    "\n",
    "create = instructor.patch(\n",
    "    create=llama.create_chat_completion_openai_v1,\n",
    "    mode=instructor.Mode.JSON_SCHEMA,\n",
    ")\n",
    "\n",
    "\n",
    "class UserDetail(BaseModel):\n",
    "    name: str\n",
    "    age: int"
   ]
  },
  {
   "cell_type": "code",
   "execution_count": null,
   "metadata": {},
   "outputs": [],
   "source": [
    "user = create(\n",
    "    messages=[\n",
    "        {\n",
    "            \"role\": \"system\",\n",
    "            \"content\": \"Extract `Jason is 30 years old`\",\n",
    "        },\n",
    "        {\n",
    "            \"role\": \"user\",\n",
    "            \"content\": \"Extract `Jason is 30 years old`\",\n",
    "        },\n",
    "    ],\n",
    "    response_model=UserDetail,\n",
    ")\n",
    "\n",
    "print(user)\n",
    "# > name='Jason' age=30"
   ]
  },
  {
   "cell_type": "code",
   "execution_count": null,
   "metadata": {},
   "outputs": [],
   "source": []
  }
 ],
 "metadata": {
  "kernelspec": {
   "display_name": "parser-2Aur3UYS-py3.12",
   "language": "python",
   "name": "python3"
  },
  "language_info": {
   "codemirror_mode": {
    "name": "ipython",
    "version": 3
   },
   "file_extension": ".py",
   "mimetype": "text/x-python",
   "name": "python",
   "nbconvert_exporter": "python",
   "pygments_lexer": "ipython3",
   "version": "3.12.7"
  }
 },
 "nbformat": 4,
 "nbformat_minor": 2
}
