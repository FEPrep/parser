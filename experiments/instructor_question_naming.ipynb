{
 "cells": [
  {
   "cell_type": "code",
   "execution_count": null,
   "metadata": {},
   "outputs": [],
   "source": [
    "import instructor\n",
    "import llama_cpp\n",
    "\n",
    "# from llama_cpp.llama_speculative import LlamaPromptLookupDecoding\n",
    "from pydantic import BaseModel, Field\n",
    "\n",
    "llama = llama_cpp.Llama(\n",
    "    model_path=\"../models/Hermes-2-Pro-Llama-3-8B-Q4.gguf\",\n",
    "    n_gpu_layers=-1,\n",
    "    n_ctx=2048,\n",
    "    chat_format=\"llama-3\",\n",
    "    verbose=False,\n",
    ")\n",
    "\n",
    "\n",
    "create = instructor.patch(\n",
    "    create=llama.create_chat_completion_openai_v1,\n",
    "    mode=instructor.Mode.JSON_SCHEMA,\n",
    ")"
   ]
  },
  {
   "cell_type": "code",
   "execution_count": null,
   "metadata": {},
   "outputs": [],
   "source": [
    "class QuestionNaming(BaseModel):\n",
    "    chain_of_thought: str = Field(\n",
    "        ...,\n",
    "        description=\"The chain of thought that led to the prediction.\",\n",
    "    )\n",
    "    name: str = Field(\n",
    "        ...,\n",
    "        description=\"Code that the user will implement, such as blank function implementations for the user to implement. Use the question prompt to help determine what the user needs to implement.\",\n",
    "    )\n",
    "\n",
    "\n",
    "def generate_question_name(data: str) -> QuestionNaming:\n",
    "    extraction: QuestionNaming = create(\n",
    "        messages=[\n",
    "            {\n",
    "                \"role\": \"system\",\n",
    "                \"content\": (\n",
    "                    \"You are an expert at extracting information from exams. \"\n",
    "                    \"You will be given a question from a Computer Science exam, \"\n",
    "                    \"and you will need to generate a name for the question. \"\n",
    "                    \"Follow a leetcode naming convention. \"\n",
    "                    \"Do not solve the question. \"\n",
    "                ),\n",
    "            },\n",
    "            {\n",
    "                \"role\": \"user\",\n",
    "                \"content\": (\n",
    "                    f\"Extract name from the following text: \" f\"<text>{data}</text>\"\n",
    "                ),\n",
    "            },\n",
    "        ],\n",
    "        response_model=QuestionNaming,\n",
    "    )\n",
    "    return extraction"
   ]
  },
  {
   "cell_type": "code",
   "execution_count": null,
   "metadata": {},
   "outputs": [],
   "source": [
    "from parser.model import Section\n",
    "from parser.parse import main\n",
    "from typing import List\n",
    "\n",
    "sections: List[Section] = main(\"../fe_files/exams/FE-Aug23.pdf\")\n",
    "\n",
    "\n",
    "for section in sections:\n",
    "    for question in section.questions:\n",
    "        input_question = question.text\n",
    "        print(input_question)\n",
    "        generated_name: str = generate_question_name(input_question)\n",
    "        question.generated_name = generated_name\n",
    "\n",
    "\n",
    "class Document(BaseModel):\n",
    "    sections: List[Section]\n",
    "\n",
    "\n",
    "document = Document(sections=sections)\n",
    "\n",
    "# Write pydantic models to JSON file\n",
    "with open(\"document_named.json\", \"w\") as json_file:\n",
    "    json_file.write(document.model_dump_json())"
   ]
  }
 ],
 "metadata": {
  "kernelspec": {
   "display_name": "parser-2Aur3UYS-py3.12",
   "language": "python",
   "name": "python3"
  },
  "language_info": {
   "codemirror_mode": {
    "name": "ipython",
    "version": 3
   },
   "file_extension": ".py",
   "mimetype": "text/x-python",
   "name": "python",
   "nbconvert_exporter": "python",
   "pygments_lexer": "ipython3",
   "version": "3.12.7"
  }
 },
 "nbformat": 4,
 "nbformat_minor": 2
}
