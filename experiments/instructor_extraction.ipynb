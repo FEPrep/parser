{
 "cells": [
  {
   "cell_type": "code",
   "execution_count": null,
   "metadata": {},
   "outputs": [],
   "source": [
    "import instructor\n",
    "import llama_cpp\n",
    "\n",
    "# from llama_cpp.llama_speculative import LlamaPromptLookupDecoding\n",
    "from pydantic import BaseModel, Field\n",
    "\n",
    "llama = llama_cpp.Llama(\n",
    "    model_path=\"../models/Hermes-2-Pro-Llama-3-8B-Q4.gguf\",\n",
    "    n_gpu_layers=-1,\n",
    "    n_ctx=2048,\n",
    "    chat_format=\"llama-3\",\n",
    ")\n",
    "\n",
    "\n",
    "create = instructor.patch(\n",
    "    create=llama.create_chat_completion_openai_v1,\n",
    "    mode=instructor.Mode.JSON_SCHEMA,\n",
    ")"
   ]
  },
  {
   "cell_type": "code",
   "execution_count": null,
   "metadata": {},
   "outputs": [],
   "source": []
  },
  {
   "cell_type": "code",
   "execution_count": null,
   "metadata": {},
   "outputs": [],
   "source": [
    "class QuestionExtraction(BaseModel):\n",
    "    chain_of_thought: str = Field(\n",
    "        ...,\n",
    "        description=\"The chain of thought that led to the prediction.\",\n",
    "    )\n",
    "    user_input_code: str = Field(\n",
    "        ...,\n",
    "        description=\"Code that the user will implement, such as blank function implementations for the user to implement. Use the question prompt to help determine what the user needs to implement.\",\n",
    "    )\n",
    "    predefined_code: str = Field(\n",
    "        ...,\n",
    "        description=\"Code that is predefined by the system, such as imports, function definitions, struct definitions, etc.\",\n",
    "    )\n",
    "\n",
    "\n",
    "def extract_question_data(data: str) -> QuestionExtraction:\n",
    "    extraction: QuestionExtraction = create(\n",
    "        messages=[\n",
    "            {\n",
    "                \"role\": \"system\",\n",
    "                \"content\": (\n",
    "                    \"You are an expert at extracting information from exams. \"\n",
    "                    \"You will be given a question from a Computer Science exam, \"\n",
    "                    \"and you will need to extract metadata about the question. \"\n",
    "                    \"Focus on identifying the user_input_code and predefined_code. \"\n",
    "                    \"Do not solve the question. \"\n",
    "                    \"For example, if the question provides a function prototype, \"\n",
    "                    \"extract it as user_input_code. If there are any predefined \"\n",
    "                    \"function implementations or imports, extract them as predefined_code.\"\n",
    "                ),\n",
    "            },\n",
    "            {\n",
    "                \"role\": \"user\",\n",
    "                \"content\": (\n",
    "                    f\"Extract user_input_code and predefined_code from the following text: \"\n",
    "                    f\"<text>{data}</text>\"\n",
    "                ),\n",
    "            },\n",
    "        ],\n",
    "        response_model=QuestionExtraction,\n",
    "    )\n",
    "    return extraction"
   ]
  },
  {
   "cell_type": "code",
   "execution_count": null,
   "metadata": {},
   "outputs": [],
   "source": [
    "from typing import List\n",
    "\n",
    "from parser.model import Section\n",
    "from parser.parse import main\n",
    "\n",
    "sections: List[Section] = main(\"../fe_files/exams/FE-Aug23.pdf\")\n",
    "\n",
    "input_question = sections[1].questions[1].text\n",
    "\n",
    "print(input_question)\n",
    "\n",
    "extraction = extract_question_data(input_question)\n",
    "\n",
    "print(extraction.model_dump_json(indent=2))"
   ]
  }
 ],
 "metadata": {
  "kernelspec": {
   "display_name": "parser-2Aur3UYS-py3.12",
   "language": "python",
   "name": "python3"
  },
  "language_info": {
   "codemirror_mode": {
    "name": "ipython",
    "version": 3
   },
   "file_extension": ".py",
   "mimetype": "text/x-python",
   "name": "python",
   "nbconvert_exporter": "python",
   "pygments_lexer": "ipython3",
   "version": "3.12.7"
  }
 },
 "nbformat": 4,
 "nbformat_minor": 2
}
