{
 "cells": [
  {
   "cell_type": "code",
   "execution_count": null,
   "metadata": {},
   "outputs": [],
   "source": [
    "from nltk.corpus import stopwords\n",
    "from nltk.tokenize import word_tokenize\n",
    "import nltk\n",
    "\n",
    "nltk.download(\"stopwords\")\n",
    "nltk.download(\"punkt_tab\")\n",
    "stop_words = set(stopwords.words(\"english\"))\n",
    "\n",
    "\n",
    "def remove_stop_words(text: str) -> str:\n",
    "    word_tokens = word_tokenize(text)\n",
    "    # converts the words in word_tokens to lower case and then checks whether\n",
    "    # they are present in stop_words or not\n",
    "    filtered_sentence = [w for w in word_tokens if w.lower() not in stop_words]\n",
    "    # with no lower case conversion\n",
    "    filtered_sentence = []\n",
    "\n",
    "    for w in word_tokens:\n",
    "        if w not in stop_words:\n",
    "            filtered_sentence.append(w)\n",
    "\n",
    "    print(word_tokens)\n",
    "    print(filtered_sentence)\n",
    "    return \" \".join(filtered_sentence)"
   ]
  },
  {
   "cell_type": "code",
   "execution_count": null,
   "metadata": {},
   "outputs": [],
   "source": [
    "from nltk.stem import PorterStemmer\n",
    "\n",
    "porter_stemmer = PorterStemmer()\n",
    "\n",
    "\n",
    "def lemmatize_text(text: str) -> str:\n",
    "    word_tokens = word_tokenize(text)\n",
    "    lemmatized_sentence = [porter_stemmer.stem(word) for word in word_tokens]\n",
    "    return \" \".join(lemmatized_sentence)"
   ]
  },
  {
   "cell_type": "code",
   "execution_count": null,
   "metadata": {},
   "outputs": [],
   "source": []
  },
  {
   "cell_type": "code",
   "execution_count": null,
   "metadata": {},
   "outputs": [],
   "source": []
  },
  {
   "cell_type": "code",
   "execution_count": null,
   "metadata": {},
   "outputs": [],
   "source": []
  },
  {
   "cell_type": "code",
   "execution_count": null,
   "metadata": {},
   "outputs": [],
   "source": [
    "from typing import List\n",
    "from parser.model import Section\n",
    "from parser.parse import main\n",
    "from pydantic import BaseModel\n",
    "\n",
    "sections: List[Section] = main(\"../fe_files/exams/FE-Aug23.pdf\")\n",
    "\n",
    "\n",
    "for section in sections:\n",
    "    for question in section.questions:\n",
    "        input_question = question.text\n",
    "        print(input_question)\n",
    "\n",
    "        removed_stop_words: str = remove_stop_words(input_question)\n",
    "        question.metadata.removed_stop_words = removed_stop_words\n",
    "        lemmatized_text: str = lemmatize_text(removed_stop_words)\n",
    "        question.metadata.lemmatized_text = lemmatized_text\n",
    "\n",
    "\n",
    "class Document(BaseModel):\n",
    "    sections: List[Section]\n",
    "\n",
    "\n",
    "document = Document(sections=sections)\n",
    "\n",
    "# Write pydantic models to JSON file\n",
    "with open(\"document_preprocessed_removed_stop_words.json\", \"w\") as json_file:\n",
    "    json_file.write(document.model_dump_json())"
   ]
  }
 ],
 "metadata": {
  "kernelspec": {
   "display_name": "parser-2Aur3UYS-py3.12",
   "language": "python",
   "name": "python3"
  },
  "language_info": {
   "codemirror_mode": {
    "name": "ipython",
    "version": 3
   },
   "file_extension": ".py",
   "mimetype": "text/x-python",
   "name": "python",
   "nbconvert_exporter": "python",
   "pygments_lexer": "ipython3",
   "version": "3.12.7"
  }
 },
 "nbformat": 4,
 "nbformat_minor": 2
}
